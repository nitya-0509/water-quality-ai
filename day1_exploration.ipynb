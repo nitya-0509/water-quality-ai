{
 "cells": [
  {
   "cell_type": "code",
   "execution_count": null,
   "id": "b6e44bde",
   "metadata": {
    "vscode": {
     "languageId": "plaintext"
    }
   },
   "outputs": [],
   "source": [
    "# Day 1 - Basic Dataset Exploration\n",
    "\n",
    "import pandas as pd\n",
    "\n",
    "# Load dataset\n",
    "df = pd.read_csv(\"../data/synthetic_water_quality.csv\")\n",
    "\n",
    "# Show shape\n",
    "print(\"Dataset Shape:\", df.shape)\n",
    "\n",
    "# Show first 5 rows\n",
    "print(\"\\n--- First 5 Rows ---\")\n",
    "print(df.head())\n",
    "\n",
    "# Dataset info\n",
    "print(\"\\n--- Info ---\")\n",
    "print(df.info())\n",
    "\n",
    "# Summary statistics\n",
    "print(\"\\n--- Summary Statistics ---\")\n",
    "print(df.describe())\n",
    "\n",
    "# Quick label balance check\n",
    "print(\"\\n--- Label Distribution (Water_Safe) ---\")\n",
    "print(df['Water_Safe'].value_counts())\n"
   ]
  }
 ],
 "metadata": {
  "language_info": {
   "name": "python"
  }
 },
 "nbformat": 4,
 "nbformat_minor": 5
}
