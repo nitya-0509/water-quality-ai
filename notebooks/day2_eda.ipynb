{
 "cells": [
  {
   "cell_type": "code",
   "execution_count": null,
   "id": "a95d7966",
   "metadata": {
    "vscode": {
     "languageId": "plaintext"
    }
   },
   "outputs": [],
   "source": [
    "# Day 2 - Exploratory Data Analysis (EDA)\n",
    "\n",
    "# Step 1: Import libraries\n",
    "import pandas as pd\n",
    "import matplotlib.pyplot as plt\n",
    "import seaborn as sns\n",
    "\n",
    "# Load dataset\n",
    "df = pd.read_csv(\"../data/synthetic_water_quality.csv\")\n",
    "\n",
    "# Quick check\n",
    "print(\"Shape:\", df.shape)\n",
    "print(\"\\nColumns:\", df.columns.tolist())\n",
    "\n",
    "# Step 2: Visualize distributions\n",
    "plt.figure(figsize=(10, 6))\n",
    "df.hist(bins=20, figsize=(12, 8), color='skyblue', edgecolor='black')\n",
    "plt.suptitle(\"Feature Distributions\", fontsize=16)\n",
    "plt.show()\n",
    "\n",
    "# Step 3: Boxplots to check outliers\n",
    "plt.figure(figsize=(10, 6))\n",
    "sns.boxplot(data=df.drop(columns=[\"Water_Safe\"]))\n",
    "plt.title(\"Boxplots - Outlier Check\", fontsize=14)\n",
    "plt.show()\n",
    "\n",
    "# Step 4: Correlation heatmap\n",
    "plt.figure(figsize=(8, 6))\n",
    "sns.heatmap(df.corr(), annot=True, cmap=\"Blues\", fmt=\".2f\")\n",
    "plt.title(\"Feature Correlation Heatmap\", fontsize=14)\n",
    "plt.show()\n",
    "\n",
    "# Step 5: Relation of each feature with Water_Safe\n",
    "for col in df.columns[:-1]:\n",
    "    plt.figure(figsize=(6,4))\n",
    "    sns.boxplot(x=\"Water_Safe\", y=col, data=df)\n",
    "    plt.title(f\"{col} vs Water_Safe\")\n",
    "    plt.show()\n"
   ]
  },
  {
   "cell_type": "markdown",
   "id": "766d69e0",
   "metadata": {},
   "source": [
    "\"Step 1 – Importing & Loading Data\"\n",
    "\n",
    "We load the dataset and check the shape and columns.\n",
    "\n",
    "\"Step 2 – Feature Distributions\"\n",
    "\n",
    "Histograms show how each feature is distributed and if the data is skewed.\n",
    "\n",
    "\"Step 3 – Outlier Detection\"\n",
    "\n",
    "Boxplots help identify outliers in each numeric feature.\n",
    "\n",
    "\"Step 4 – Correlation Matrix\"\n",
    "\n",
    "Correlation heatmap shows relationships between features.\n",
    "\n",
    "\"Step 5 – Feature vs Target\"\n",
    "\n",
    "We visualize how each parameter differs between Safe and Unsafe water samples."
   ]
  }
 ],
 "metadata": {
  "language_info": {
   "name": "python"
  }
 },
 "nbformat": 4,
 "nbformat_minor": 5
}
